{
 "cells": [
  {
   "cell_type": "markdown",
   "id": "b463c58e",
   "metadata": {},
   "source": [
    "# MongoDB with Python"
   ]
  },
  {
   "cell_type": "markdown",
   "id": "5752b829",
   "metadata": {},
   "source": [
    "## Steps for connecting mongoDB with Python\n",
    "- import pymongo  {import pymongo}\n",
    "- create pymongo client {client = pymongo.MongoClient('mongodb://127.0.0.1:27017')}\n",
    "- create database {mydb = client['student']}\n",
    "- create collection {information = mydb.employeeinformation}\n",
    "- insert record {information.insert_one(record)}"
   ]
  },
  {
   "cell_type": "code",
   "execution_count": 1,
   "id": "e717e2da",
   "metadata": {},
   "outputs": [],
   "source": [
    "import pymongo"
   ]
  },
  {
   "cell_type": "code",
   "execution_count": 3,
   "id": "0a10c4bc",
   "metadata": {},
   "outputs": [],
   "source": [
    "#create pymongo client\n",
    "client = pymongo.MongoClient('mongodb://127.0.0.1:27017')"
   ]
  },
  {
   "cell_type": "code",
   "execution_count": 4,
   "id": "04bb2a55",
   "metadata": {},
   "outputs": [],
   "source": [
    "mydb = client['student'] #creation of databases"
   ]
  },
  {
   "cell_type": "code",
   "execution_count": 5,
   "id": "07cc7df0",
   "metadata": {},
   "outputs": [],
   "source": [
    "information = mydb.employeeinformation # creation of collections"
   ]
  },
  {
   "cell_type": "code",
   "execution_count": 8,
   "id": "68476203",
   "metadata": {},
   "outputs": [
    {
     "data": {
      "text/plain": [
       "<pymongo.results.InsertOneResult at 0x7f32c6d239d0>"
      ]
     },
     "execution_count": 8,
     "metadata": {},
     "output_type": "execute_result"
    }
   ],
   "source": [
    "record = {\"firstname\":\"Saima\",\n",
    "          \"age\":26, \n",
    "          \"department\":\"CSE\"}\n",
    "information.insert_one(record)"
   ]
  },
  {
   "cell_type": "code",
   "execution_count": 12,
   "id": "8aebb7c6",
   "metadata": {},
   "outputs": [
    {
     "data": {
      "text/plain": [
       "<pymongo.results.InsertManyResult at 0x7f32e45c7850>"
      ]
     },
     "execution_count": 12,
     "metadata": {},
     "output_type": "execute_result"
    }
   ],
   "source": [
    "record = [{\"firstname\":\"Saima\",\n",
    "           \"age\":26, \n",
    "           \"department\":\"CSE\"},\n",
    "          {\"firstname\":\"Shanu\",\n",
    "           \"age\":27,\n",
    "           \"department\":\"ME\"},\n",
    "         {\"firstname\":\"mudassir\",\n",
    "           \"age\":27},\n",
    "         {\n",
    "        'firstname':'John',\n",
    "        'lastname':'Doe',\n",
    "        'department':'Analytics',\n",
    "        'qualification':'statistics',\n",
    "        'age':35\n",
    "        \n",
    "        },\n",
    "         {\n",
    "        'firstname':'John ',\n",
    "        'lastname':'Smith',\n",
    "        'department':'Analytics',\n",
    "        'qualification':'masters',\n",
    "        'age':30\n",
    "        \n",
    "        },\n",
    "        {\n",
    "        'firstname':'Manish',\n",
    "        'lastname':'Sen',\n",
    "        'department':'Analytics',\n",
    "        'qualification':'phd',\n",
    "        'age':34\n",
    "        \n",
    "        },\n",
    "        {\n",
    "        'firstname':'Ram',\n",
    "        'lastname':'Singh',\n",
    "        'department':'Analytics',\n",
    "        'qualification':'master',\n",
    "        'age':32\n",
    "        \n",
    "        }]\n",
    "information.insert_many(record)"
   ]
  },
  {
   "cell_type": "markdown",
   "id": "b769ca32",
   "metadata": {},
   "source": [
    "# Querying JSON Document"
   ]
  },
  {
   "cell_type": "code",
   "execution_count": 13,
   "id": "3f0ccd0d",
   "metadata": {},
   "outputs": [
    {
     "data": {
      "text/plain": [
       "{'_id': ObjectId('635cfff9cf17596f0a502c14'),\n",
       " 'firstname': 'Saima',\n",
       " 'age': 26,\n",
       " 'department': 'CSE'}"
      ]
     },
     "execution_count": 13,
     "metadata": {},
     "output_type": "execute_result"
    }
   ],
   "source": [
    "information.find_one()"
   ]
  },
  {
   "cell_type": "code",
   "execution_count": 15,
   "id": "a19da17b",
   "metadata": {},
   "outputs": [
    {
     "name": "stdout",
     "output_type": "stream",
     "text": [
      "{'_id': ObjectId('635cfff9cf17596f0a502c14'), 'firstname': 'Saima', 'age': 26, 'department': 'CSE'}\n",
      "{'_id': ObjectId('635d00aacf17596f0a502c15'), 'firstname': 'Saima', 'age': 26, 'department': 'CSE'}\n",
      "{'_id': ObjectId('635d00c3cf17596f0a502c16'), 'firstname': 'Saima', 'age': 26, 'department': 'CSE'}\n",
      "{'_id': ObjectId('635d00c3cf17596f0a502c17'), 'firstname': 'Shanu', 'age': 27, 'department': 'ME'}\n",
      "{'_id': ObjectId('635d0219cf17596f0a502c18'), 'firstname': 'Saima', 'age': 26, 'department': 'CSE'}\n",
      "{'_id': ObjectId('635d0219cf17596f0a502c19'), 'firstname': 'Shanu', 'age': 27, 'department': 'ME'}\n",
      "{'_id': ObjectId('635d0219cf17596f0a502c1a'), 'firstname': 'Saima', 'age': 26}\n",
      "{'_id': ObjectId('635d0262cf17596f0a502c1b'), 'firstname': 'Saima', 'age': 26, 'department': 'CSE'}\n",
      "{'_id': ObjectId('635d0262cf17596f0a502c1c'), 'firstname': 'Shanu', 'age': 27, 'department': 'ME'}\n",
      "{'_id': ObjectId('635d0262cf17596f0a502c1d'), 'firstname': 'mudassir', 'age': 27}\n",
      "{'_id': ObjectId('635d0262cf17596f0a502c1e'), 'firstname': 'John', 'lastname': 'Doe', 'department': 'Analytics', 'qualification': 'statistics', 'age': 35}\n",
      "{'_id': ObjectId('635d0262cf17596f0a502c1f'), 'firstname': 'John ', 'lastname': 'Smith', 'department': 'Analytics', 'qualification': 'masters', 'age': 30}\n",
      "{'_id': ObjectId('635d0262cf17596f0a502c20'), 'firstname': 'Manish', 'lastname': 'Sen', 'department': 'Analytics', 'qualification': 'phd', 'age': 34}\n",
      "{'_id': ObjectId('635d0262cf17596f0a502c21'), 'firstname': 'Ram', 'lastname': 'Singh', 'department': 'Analytics', 'qualification': 'master', 'age': 32}\n"
     ]
    }
   ],
   "source": [
    "for info in information.find(): # similar to select * from table\n",
    "    print(info)"
   ]
  },
  {
   "cell_type": "markdown",
   "id": "1836935e",
   "metadata": {},
   "source": [
    "## Query json document on the basis of equality condition\n"
   ]
  },
  {
   "cell_type": "code",
   "execution_count": 36,
   "id": "061d380a",
   "metadata": {},
   "outputs": [
    {
     "name": "stdout",
     "output_type": "stream",
     "text": [
      "{'_id': ObjectId('635cfff9cf17596f0a502c14'), 'firstname': 'Saima', 'age': 26, 'department': 'CSE'}\n",
      "{'_id': ObjectId('635d00aacf17596f0a502c15'), 'firstname': 'Saima', 'age': 26, 'department': 'CSE'}\n",
      "{'_id': ObjectId('635d00c3cf17596f0a502c16'), 'firstname': 'Saima', 'age': 26, 'department': 'CSE'}\n",
      "{'_id': ObjectId('635d0219cf17596f0a502c18'), 'firstname': 'Saima', 'age': 26, 'department': 'CSE'}\n",
      "{'_id': ObjectId('635d0219cf17596f0a502c1a'), 'firstname': 'Saima', 'age': 26}\n",
      "{'_id': ObjectId('635d0262cf17596f0a502c1b'), 'firstname': 'Saima', 'age': 26, 'department': 'CSE'}\n"
     ]
    }
   ],
   "source": [
    "\n",
    "#select * from information where \"firstname\" = \"Saima\"\n",
    "for info in information.find({\"firstname\":\"Saima\"}): # condition to be given in find\n",
    "    print(info)\n",
    "    "
   ]
  },
  {
   "cell_type": "markdown",
   "id": "93bdbdbe",
   "metadata": {},
   "source": [
    "# Query Documents using query operators"
   ]
  },
  {
   "cell_type": "code",
   "execution_count": 29,
   "id": "9dbddbc3",
   "metadata": {},
   "outputs": [
    {
     "name": "stdout",
     "output_type": "stream",
     "text": [
      "{'_id': ObjectId('635d0262cf17596f0a502c1f'), 'firstname': 'John ', 'lastname': 'Smith', 'department': 'Analytics', 'qualification': 'masters', 'age': 30}\n",
      "{'_id': ObjectId('635d0262cf17596f0a502c20'), 'firstname': 'Manish', 'lastname': 'Sen', 'department': 'Analytics', 'qualification': 'phd', 'age': 34}\n"
     ]
    }
   ],
   "source": [
    "#Query operators($in, $lt,$gt) \n",
    "#Query 1- returns the records whose qualification is either masters of phd(similar to in operator in sql)\n",
    "for info in information.find({'qualification':{'$in':['masters','phd']}}):\n",
    "    print(info)"
   ]
  },
  {
   "cell_type": "code",
   "execution_count": 30,
   "id": "5544c812",
   "metadata": {},
   "outputs": [
    {
     "name": "stdout",
     "output_type": "stream",
     "text": [
      "{'_id': ObjectId('635d0262cf17596f0a502c1f'), 'firstname': 'John ', 'lastname': 'Smith', 'department': 'Analytics', 'qualification': 'masters', 'age': 30}\n"
     ]
    }
   ],
   "source": [
    "## and operator and query operator\n",
    "#Query2 - returns the records whose qualification is either masters or phd and age is 32\n",
    "for info in information.find({'qualification':{'$in':['masters','phd']},'age':{'$lt':32}}):\n",
    "    print(info)"
   ]
  },
  {
   "cell_type": "code",
   "execution_count": 31,
   "id": "0d84e5d7",
   "metadata": {},
   "outputs": [
    {
     "name": "stdout",
     "output_type": "stream",
     "text": [
      "{'_id': ObjectId('635cfff9cf17596f0a502c14'), 'firstname': 'Saima', 'age': 26, 'department': 'CSE'}\n",
      "{'_id': ObjectId('635d00aacf17596f0a502c15'), 'firstname': 'Saima', 'age': 26, 'department': 'CSE'}\n",
      "{'_id': ObjectId('635d00c3cf17596f0a502c16'), 'firstname': 'Saima', 'age': 26, 'department': 'CSE'}\n",
      "{'_id': ObjectId('635d0219cf17596f0a502c18'), 'firstname': 'Saima', 'age': 26, 'department': 'CSE'}\n",
      "{'_id': ObjectId('635d0219cf17596f0a502c1a'), 'firstname': 'Saima', 'age': 26}\n",
      "{'_id': ObjectId('635d0262cf17596f0a502c1b'), 'firstname': 'Saima', 'age': 26, 'department': 'CSE'}\n",
      "{'_id': ObjectId('635d0262cf17596f0a502c1f'), 'firstname': 'John ', 'lastname': 'Smith', 'department': 'Analytics', 'qualification': 'masters', 'age': 30}\n"
     ]
    }
   ],
   "source": [
    "## or operator\n",
    "# Query3 - returns the records whose firstname is saima or qualification is masters\n",
    "for info in information.find({'$or':[{\"firstname\":\"Saima\"},{\"qualification\":\"masters\"}]}):\n",
    "    print(info)"
   ]
  },
  {
   "cell_type": "code",
   "execution_count": 32,
   "id": "08b1e3f2",
   "metadata": {},
   "outputs": [
    {
     "name": "stdout",
     "output_type": "stream",
     "text": [
      "{'_id': ObjectId('635cfff9cf17596f0a502c14'), 'firstname': 'Saima', 'age': 26, 'department': 'CSE'}\n",
      "{'_id': ObjectId('635d00aacf17596f0a502c15'), 'firstname': 'Saima', 'age': 26, 'department': 'CSE'}\n",
      "{'_id': ObjectId('635d00c3cf17596f0a502c16'), 'firstname': 'Saima', 'age': 26, 'department': 'CSE'}\n",
      "{'_id': ObjectId('635d0219cf17596f0a502c18'), 'firstname': 'Saima', 'age': 26, 'department': 'CSE'}\n",
      "{'_id': ObjectId('635d0219cf17596f0a502c1a'), 'firstname': 'Saima', 'age': 26}\n",
      "{'_id': ObjectId('635d0262cf17596f0a502c1b'), 'firstname': 'Saima', 'age': 26, 'department': 'CSE'}\n"
     ]
    }
   ],
   "source": [
    "# Query3 - returns the records whose firstname is saima and qualification is masters\n",
    "for info in information.find({'$and':[{\"firstname\":\"Saima\"},{\"age\":26}]}):\n",
    "    print(info)"
   ]
  },
  {
   "cell_type": "markdown",
   "id": "3987a3c2",
   "metadata": {},
   "source": [
    "# Querying JSON Nested Documents"
   ]
  },
  {
   "cell_type": "code",
   "execution_count": 33,
   "id": "8d3848aa",
   "metadata": {},
   "outputs": [],
   "source": [
    "inventory = mydb.inventory"
   ]
  },
  {
   "cell_type": "code",
   "execution_count": 34,
   "id": "282f7457",
   "metadata": {},
   "outputs": [
    {
     "data": {
      "text/plain": [
       "<pymongo.results.InsertManyResult at 0x7f32e45c7700>"
      ]
     },
     "execution_count": 34,
     "metadata": {},
     "output_type": "execute_result"
    }
   ],
   "source": [
    "inventory.insert_many( [\n",
    "   { 'item': \"journal\", 'qty': 25, 'size': { 'h': 14, 'w': 21,'uom': \"cm\" }, 'status': \"A\" },\n",
    "   { 'item': \"notebook\", 'qty': 50,'size': { 'h': 8.5, 'w': 11,'uom': \"in\" },'status': \"A\" },\n",
    "   { 'item': \"paper\", 'qty': 100, 'size': { 'h': 8.5, 'w': 11,'uom': \"in\" },'status': \"D\" },\n",
    "   { 'item': \"planner\", 'qty': 75, 'size': { 'h': 22.85,'w': 30,'uom': \"cm\" },'status': \"D\" },\n",
    "   { 'item': \"postcard\", 'qty': 45, 'size': { 'h': 10, 'w': 15.25,'uom': \"cm\" },'status': \"A\" }\n",
    "])"
   ]
  },
  {
   "cell_type": "code",
   "execution_count": 35,
   "id": "e99cc5cd",
   "metadata": {},
   "outputs": [
    {
     "name": "stdout",
     "output_type": "stream",
     "text": [
      "{'_id': ObjectId('635d098dcf17596f0a502c22'), 'item': 'journal', 'qty': 25, 'size': {'h': 14, 'w': 21, 'uom': 'cm'}, 'status': 'A'}\n"
     ]
    }
   ],
   "source": [
    "for info in inventory.find({\"size\":{ 'h': 14, 'w': 21,'uom': \"cm\" }}):\n",
    "    print(info)"
   ]
  },
  {
   "cell_type": "markdown",
   "id": "feda2ebb",
   "metadata": {},
   "source": [
    "# Updating Json Documents"
   ]
  },
  {
   "cell_type": "markdown",
   "id": "9bc7ad1e",
   "metadata": {},
   "source": [
    "## Functions used\n",
    "- pymongo.collection.Collection.update_one()\n",
    "- pymongo.collection.Collection.update_many()\n",
    "- pymongo.collection.Collection.replace_one()"
   ]
  },
  {
   "cell_type": "code",
   "execution_count": 51,
   "id": "88a7ae17",
   "metadata": {},
   "outputs": [
    {
     "data": {
      "text/plain": [
       "<pymongo.results.InsertManyResult at 0x7f32c4692f10>"
      ]
     },
     "execution_count": 51,
     "metadata": {},
     "output_type": "execute_result"
    }
   ],
   "source": [
    "inventory.insert_many([\n",
    "    {\"item\": \"canvas\",\n",
    "     \"qty\": 100,\n",
    "     \"size\": {\"h\": 28, \"w\": 35.5, \"uom\": \"cm\"},\n",
    "     \"status\": \"A\"},\n",
    "    {\"item\": \"journal\",\n",
    "     \"qty\": 25,\n",
    "     \"size\": {\"h\": 14, \"w\": 21, \"uom\": \"cm\"},\n",
    "     \"status\": \"A\"},\n",
    "    {\"item\": \"mat\",\n",
    "     \"qty\": 85,\n",
    "     \"size\": {\"h\": 27.9, \"w\": 35.5, \"uom\": \"cm\"},\n",
    "     \"status\": \"A\"},\n",
    "    {\"item\": \"mousepad\",\n",
    "     \"qty\": 25,\n",
    "     \"size\": {\"h\": 19, \"w\": 22.85, \"uom\": \"cm\"},\n",
    "     \"status\": \"P\"},\n",
    "    {\"item\": \"notebook\",\n",
    "     \"qty\": 50,\n",
    "     \"size\": {\"h\": 8.5, \"w\": 11, \"uom\": \"in\"},\n",
    "     \"status\": \"P\"},\n",
    "    {\"item\": \"paper\",\n",
    "     \"qty\": 100,\n",
    "     \"size\": {\"h\": 8.5, \"w\": 11, \"uom\": \"in\"},\n",
    "     \"status\": \"D\"},\n",
    "    {\"item\": \"planner\",\n",
    "     \"qty\": 75,\n",
    "     \"size\": {\"h\": 22.85, \"w\": 30, \"uom\": \"cm\"},\n",
    "     \"status\": \"D\"},\n",
    "    {\"item\": \"postcard\",\n",
    "     \"qty\": 45,\n",
    "     \"size\": {\"h\": 10, \"w\": 15.25, \"uom\": \"cm\"},\n",
    "     \"status\": \"A\"},\n",
    "    {\"item\": \"sketchbook\",\n",
    "     \"qty\": 80,\n",
    "     \"size\": {\"h\": 14, \"w\": 21, \"uom\": \"cm\"},\n",
    "     \"status\": \"A\"},\n",
    "    {\"item\": \"sketch pad\",\n",
    "     \"qty\": 95,\n",
    "     \"size\": {\"h\": 22.85, \"w\": 30.5, \"uom\": \"cm\"},\n",
    "     \"status\": \"A\"}])"
   ]
  },
  {
   "cell_type": "code",
   "execution_count": 54,
   "id": "d182a4ad",
   "metadata": {},
   "outputs": [
    {
     "data": {
      "text/plain": [
       "<pymongo.results.UpdateResult at 0x7f32abac5b80>"
      ]
     },
     "execution_count": 54,
     "metadata": {},
     "output_type": "execute_result"
    }
   ],
   "source": [
    "inventory.update_one(  #updates the uom size from cm to m an set the status a p of item sketch pad \n",
    "{'item': \"sketch pad\"},\n",
    "{\"$set\":{\"size.uom\":\"m\",\"status\": \"P\"},\n",
    "\"$currentDate\":{\"lastModified\":True}} #currentDate is useful to keep the track when the data was last modified\n",
    ")\n"
   ]
  },
  {
   "cell_type": "code",
   "execution_count": 55,
   "id": "3b75d696",
   "metadata": {},
   "outputs": [
    {
     "data": {
      "text/plain": [
       "<pymongo.results.UpdateResult at 0x7f32abada850>"
      ]
     },
     "execution_count": 55,
     "metadata": {},
     "output_type": "execute_result"
    }
   ],
   "source": [
    "inventory.update_many( #update with many condition\n",
    "{\"qty\":{\"$lt\":50}},\n",
    "{\"$set\":{\"size.uom\":\"m\",\"status\": \"P\"},\n",
    "\"$currentDate\":{\"lastModified\":True}} # gives the status when it is last modified\n",
    ")"
   ]
  },
  {
   "cell_type": "code",
   "execution_count": 56,
   "id": "8e9cc178",
   "metadata": {},
   "outputs": [
    {
     "data": {
      "text/plain": [
       "<pymongo.results.UpdateResult at 0x7f32e45a3ca0>"
      ]
     },
     "execution_count": 56,
     "metadata": {},
     "output_type": "execute_result"
    }
   ],
   "source": [
    "inventory.replace_one( \n",
    "    {\"item\": \"paper\"},\n",
    "    {\"item\": \"paper\",\n",
    "     \"instock\": [\n",
    "         {\"warehouse\": \"A\", \"qty\": 60},\n",
    "         {\"warehouse\": \"B\", \"qty\": 40}]})"
   ]
  },
  {
   "cell_type": "markdown",
   "id": "858bc318",
   "metadata": {},
   "source": [
    "# Aggregate and Group Function"
   ]
  },
  {
   "cell_type": "code",
   "execution_count": 58,
   "id": "bbb0f8d9",
   "metadata": {},
   "outputs": [
    {
     "data": {
      "text/plain": [
       "<pymongo.results.InsertManyResult at 0x7f32abcbedc0>"
      ]
     },
     "execution_count": 58,
     "metadata": {},
     "output_type": "execute_result"
    }
   ],
   "source": [
    "student_details= mydb.studentinformation\n",
    "data =[ \n",
    "    {\"user\":\"Krish\", \"subject\":\"Database\", \"score\":80}, \n",
    "    {\"user\":\"Amit\",  \"subject\":\"JavaScript\", \"score\":90}, \n",
    "    {\"user\":\"Amit\",  \"title\":\"Database\", \"score\":85}, \n",
    "    {\"user\":\"Krish\",  \"title\":\"JavaScript\", \"score\":75}, \n",
    "    {\"user\":\"Amit\",  \"title\":\"Data Science\", \"score\":60},\n",
    "    {\"user\":\"Krish\",  \"title\":\"Data Science\", \"score\":95}] \n",
    "student_details.insert_many(data)"
   ]
  },
  {
   "cell_type": "code",
   "execution_count": 66,
   "id": "f8134bde",
   "metadata": {},
   "outputs": [
    {
     "name": "stdout",
     "output_type": "stream",
     "text": [
      "{'_id': 'Amit', 'Total Subject': 3}\n",
      "{'_id': 'Krish', 'Total Subject': 3}\n"
     ]
    }
   ],
   "source": [
    "# Query1 - find the numbr of subjects each user has taken\n",
    "\n",
    "# grouping is done on user\n",
    "results = student_details.aggregate(\n",
    "    [{\"$group\":\n",
    "     {\"_id\":\"$user\", \"Total Subject\":{\"$sum\":1} #_id will be unique identity and it should be used(Group by expression)\n",
    "     }}   \n",
    "    ])\n",
    "for i in results:\n",
    "    print(i)"
   ]
  },
  {
   "cell_type": "code",
   "execution_count": 68,
   "id": "f9af4924",
   "metadata": {},
   "outputs": [
    {
     "name": "stdout",
     "output_type": "stream",
     "text": [
      "{'_id': 'Krish', 'Total Score': 250}\n",
      "{'_id': 'Amit', 'Total Score': 235}\n"
     ]
    }
   ],
   "source": [
    "# Query2 - total score based on user\n",
    "results_score = student_details.aggregate(\n",
    "    [{\"$group\":\n",
    "     {\"_id\":\"$user\", \"Total Score\":{\"$sum\":\"$score\"} #_id will be unique identity and it should be used\n",
    "     }}   \n",
    "    ])\n",
    "for i in results_score:\n",
    "    print(i)"
   ]
  },
  {
   "cell_type": "code",
   "execution_count": 71,
   "id": "170fd40b",
   "metadata": {},
   "outputs": [
    {
     "name": "stdout",
     "output_type": "stream",
     "text": [
      "{'_id': 'Krish', 'Average Score': 83.33333333333333}\n",
      "{'_id': 'Amit', 'Average Score': 78.33333333333333}\n"
     ]
    }
   ],
   "source": [
    "# Query 3 - Average score based on user\n",
    "results_average = student_details.aggregate(\n",
    "    [{\"$group\":\n",
    "     {\"_id\":\"$user\", \"Average Score\":{\"$avg\":\"$score\"} #_id will be unique identity and it should be used\n",
    "     }}   \n",
    "    ])\n",
    "for i in results_average:\n",
    "    print(i)"
   ]
  },
  {
   "cell_type": "markdown",
   "id": "04d44e38",
   "metadata": {},
   "source": [
    "# Creating new collection for datetime"
   ]
  },
  {
   "cell_type": "code",
   "execution_count": 72,
   "id": "2523bc5e",
   "metadata": {},
   "outputs": [],
   "source": [
    "import datetime as datetime"
   ]
  },
  {
   "cell_type": "code",
   "execution_count": 73,
   "id": "3a1ed485",
   "metadata": {},
   "outputs": [],
   "source": [
    "new_collection = mydb.stores"
   ]
  },
  {
   "cell_type": "code",
   "execution_count": 74,
   "id": "0cb60ba5",
   "metadata": {},
   "outputs": [],
   "source": [
    "data1 = [{ \"_id\" : 1, \"item\" : \"abc\", \"price\" : 10, \"quantity\" : 2, \"date\" : datetime.datetime.utcnow()},\n",
    "{ \"_id\" : 2, \"item\" : \"jkl\", \"price\" : 20, \"quantity\" : 1, \"date\" : datetime.datetime.utcnow() },\n",
    "{ \"_id\" : 3, \"item\" : \"xyz\", \"price\" : 5, \"quantity\" : 5, \"date\" : datetime.datetime.utcnow() },\n",
    "{ \"_id\" : 4, \"item\" : \"abc\", \"price\" : 10, \"quantity\" : 10, \"date\" : datetime.datetime.utcnow() },\n",
    "{ \"_id\" : 5, \"item\" : \"xyz\", \"price\" : 5, \"quantity\" : 10, \"date\" :datetime.datetime.utcnow() }]"
   ]
  },
  {
   "cell_type": "code",
   "execution_count": 75,
   "id": "a0da969d",
   "metadata": {},
   "outputs": [
    {
     "data": {
      "text/plain": [
       "<pymongo.results.InsertManyResult at 0x7f32abada580>"
      ]
     },
     "execution_count": 75,
     "metadata": {},
     "output_type": "execute_result"
    }
   ],
   "source": [
    "new_collection.insert_many(data1)"
   ]
  },
  {
   "cell_type": "code",
   "execution_count": 80,
   "id": "6d15c457",
   "metadata": {},
   "outputs": [
    {
     "name": "stdout",
     "output_type": "stream",
     "text": [
      "{'_id': 'jkl', 'AvgAmount': 20.0, 'AvgQauntity': 1.0}\n",
      "{'_id': 'abc', 'AvgAmount': 60.0, 'AvgQauntity': 6.0}\n",
      "{'_id': 'xyz', 'AvgAmount': 37.5, 'AvgQauntity': 7.5}\n"
     ]
    }
   ],
   "source": [
    "#Query- Overall average price and average quantity\n",
    "agg_result = new_collection.aggregate(\n",
    "    [{\"$group\":\n",
    "      {\"_id\":\"$item\",\n",
    "      \"AvgAmount\":{\"$avg\":{\"$multiply\": [\"$quantity\",\"$price\"]}},\n",
    "      \"AvgQauntity\":{\"$avg\":\"$quantity\"}\n",
    "      }}\n",
    "     ])\n",
    "for i in agg_result:\n",
    "    print(i)"
   ]
  },
  {
   "cell_type": "code",
   "execution_count": 81,
   "id": "538bffc0",
   "metadata": {},
   "outputs": [],
   "source": [
    "#### $Project\n",
    "\n",
    "data=[{\n",
    "  \"_id\" : 1,\n",
    "  \"title\": \"abc123\",\n",
    "  \"isbn\": \"0001122223334\",\n",
    "  \"author\": { \"last\": \"zzz\", \"first\": \"aaa\" },\n",
    "  \"copies\": 5\n",
    "},\n",
    "{\n",
    "  \"_id\" : 2,\n",
    "  \"title\": \"Baked Goods\",\n",
    "  \"isbn\": \"9999999999999\",\n",
    "  \"author\": { \"last\": \"xyz\", \"first\": \"abc\", \"middle\": \"\" },\n",
    "  \"copies\": 2\n",
    "}\n",
    "]"
   ]
  },
  {
   "cell_type": "code",
   "execution_count": 82,
   "id": "83d0e2d7",
   "metadata": {},
   "outputs": [],
   "source": [
    "#create new collction\n",
    "collection = mydb.goods"
   ]
  },
  {
   "cell_type": "code",
   "execution_count": 83,
   "id": "d503e046",
   "metadata": {},
   "outputs": [
    {
     "data": {
      "text/plain": [
       "<pymongo.results.InsertManyResult at 0x7f32c54bb1f0>"
      ]
     },
     "execution_count": 83,
     "metadata": {},
     "output_type": "execute_result"
    }
   ],
   "source": [
    "collection.insert_many(data)"
   ]
  },
  {
   "cell_type": "code",
   "execution_count": 84,
   "id": "c2ae947a",
   "metadata": {},
   "outputs": [
    {
     "name": "stdout",
     "output_type": "stream",
     "text": [
      "{'_id': 1, 'title': 'abc123', 'isbn': '0001122223334'}\n",
      "{'_id': 2, 'title': 'Baked Goods', 'isbn': '9999999999999'}\n"
     ]
    }
   ],
   "source": [
    "for row in collection.aggregate( [ { \"$project\": { \"title\": 1,\"isbn\":1 } } ] ):\n",
    "    print(row)"
   ]
  },
  {
   "cell_type": "code",
   "execution_count": null,
   "id": "0cf61637",
   "metadata": {},
   "outputs": [],
   "source": []
  }
 ],
 "metadata": {
  "kernelspec": {
   "display_name": "Python 3 (ipykernel)",
   "language": "python",
   "name": "python3"
  },
  "language_info": {
   "codemirror_mode": {
    "name": "ipython",
    "version": 3
   },
   "file_extension": ".py",
   "mimetype": "text/x-python",
   "name": "python",
   "nbconvert_exporter": "python",
   "pygments_lexer": "ipython3",
   "version": "3.9.13"
  }
 },
 "nbformat": 4,
 "nbformat_minor": 5
}
